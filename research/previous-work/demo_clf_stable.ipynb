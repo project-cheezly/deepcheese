{
 "cells": [
  {
   "cell_type": "code",
   "execution_count": 1,
   "metadata": {
    "ExecuteTime": {
     "end_time": "2024-03-08T06:34:49.997487Z",
     "start_time": "2024-03-08T06:34:49.990733Z"
    }
   },
   "outputs": [],
   "source": [
    "config = {\n",
    "    \"path\": {\n",
    "        \"dataset_path\":\"C:\\\\Users\\\\Cheon\\\\Dev\\\\deepcheese\\\\lob_data\",\n",
    "        \"model_path\":\"C:\\\\Users\\\\Cheon\\\\Dev\\\\deepcheese\\\\models\"\n",
    "    },\n",
    "\n",
    "    \"dataset\": {\n",
    "        \"ticker\": \"KQ150\",\n",
    "        \"open\": \"090000\",\n",
    "        \"close\": \"154500\",\n",
    "        \"orderbook_level\": 5,\n",
    "        \"time_window\": 100,\n",
    "        \"price_window\" : 10,\n",
    "        \"max_amount\": 5,\n",
    "        \"train_ratio\": 0.5,\n",
    "        \"val_ratio\": 0.2,\n",
    "        \"test_ratio\": 0.3,\n",
    "        \"predict_horizon\": 100,\n",
    "        \"threshold\": 0.0003\n",
    "        #\"threshold\": 0.0002\n",
    "    }\n",
    "}"
   ]
  },
  {
   "cell_type": "code",
   "execution_count": 2,
   "metadata": {
    "ExecuteTime": {
     "end_time": "2024-03-08T06:34:50.400446Z",
     "start_time": "2024-03-08T06:34:49.998495Z"
    }
   },
   "outputs": [],
   "source": [
    "import os\n",
    "import glob\n",
    "import csv\n",
    "import numpy as np\n",
    "import matplotlib.pyplot as plt\n",
    "\n",
    "\n",
    "_config_path = config[\"path\"]\n",
    "_config_dataset = config[\"dataset\"]\n",
    "\n",
    "\n",
    "def time_to_idx(timestring):\n",
    "    hour = int(timestring[:2])\n",
    "    minute = int(timestring[2:4])\n",
    "    second = int(timestring[4:])\n",
    "    return (hour - 9) * 60 * 60 + minute * 60 + second\n",
    "\n",
    "\n",
    "def idx_to_time(idx):\n",
    "    second = idx % 60\n",
    "    minute = int((idx - second) / 60) % 60\n",
    "    hour = (idx - second - minute * 60) // (60 * 60)\n",
    "    return '%02d:%02d:%02d' % (hour + 9, minute, second)\n",
    "\n",
    "\n",
    "def get_file_path(data_type, ticker, date=\"*\"):\n",
    "    match data_type:\n",
    "        case \"tradeprint\":\n",
    "            filename1 = \"H0IFCNT0\"\n",
    "        case \"orderbook\":\n",
    "            filename1 = \"H0IFASP0\"\n",
    "\n",
    "    match ticker:\n",
    "        case \"KS200\":\n",
    "            filename2 = \"101T*\"\n",
    "        case \"KQ150\":\n",
    "            filename2 = \"106T*\"\n",
    "\n",
    "    if date == \"*\":\n",
    "        return os.path.join(_config_path[\"dataset_path\"], f\"{filename1}_{filename2}_{date}.csv\")\n",
    "    else:\n",
    "        return glob.glob(os.path.join(_config_path[\"dataset_path\"], f\"{filename1}_{filename2}_{date}.csv\"))[0]\n",
    "\n",
    "\n",
    "def get_file_list(data_type, ticker):\n",
    "    return glob.glob(get_file_path(data_type, ticker))\n",
    "\n",
    "\n",
    "def get_days_list(ticker):\n",
    "    def extract_days(file_list):\n",
    "        day_list = []\n",
    "        for filename in file_list:\n",
    "            day_list.append(filename.split('.')[0].split('_')[-1])\n",
    "        return day_list\n",
    "\n",
    "    # return days which has coupled tradeprint and orderbook data\n",
    "    day_list_1 = extract_days(get_file_list(\"tradeprint\", ticker))\n",
    "    day_list_2 = extract_days(get_file_list(\"orderbook\", ticker))\n",
    "    intersect_day = list(set(day_list_1) & set(day_list_2))\n",
    "    intersect_day.sort()\n",
    "    return intersect_day\n",
    "\n",
    "\n",
    "def load_orderbook_data(filename):\n",
    "    mul_fac = 10\n",
    "    orderbook_level = 5\n",
    "\n",
    "    time_data = []\n",
    "    orderbook_data = []\n",
    "\n",
    "    with open(filename, 'r', encoding='utf-8') as csvfile:\n",
    "        reader = csv.reader(csvfile)\n",
    "        for idx, row in enumerate(reader):\n",
    "            temp_timestamp = row[1]\n",
    "            update = len(time_data) == 0 or temp_timestamp != time_data[-1]\n",
    "            if (not row[2] == '0.00') and update:\n",
    "                # Process orderbook data in single timestamp\n",
    "                temp_orderbook_data = []\n",
    "                for i in range(1, orderbook_level + 1):\n",
    "                    single_level = [\n",
    "                        ###################################################\n",
    "                        int(float(row[1+i])*mul_fac), # price  | ask side\n",
    "                        int(row[21+i]),               # volume |\n",
    "                        ###################################################\n",
    "                        int(float(row[6+i])*mul_fac), # price  | bid side\n",
    "                        int(row[26+i])                # volume |\n",
    "                        ###################################################\n",
    "                    ]\n",
    "                    temp_orderbook_data.append(single_level)\n",
    "                time_data.append(temp_timestamp)\n",
    "                orderbook_data.append(temp_orderbook_data)\n",
    "    # sparse sampling\n",
    "    time_data = np.array(time_data)[::1]\n",
    "    orderbook_data = np.array(orderbook_data)[::1]\n",
    "    return time_data, orderbook_data\n"
   ]
  },
  {
   "cell_type": "code",
   "execution_count": 3,
   "metadata": {
    "ExecuteTime": {
     "end_time": "2024-03-08T06:34:51.460147Z",
     "start_time": "2024-03-08T06:34:50.401456Z"
    }
   },
   "outputs": [],
   "source": [
    "import torch\n",
    "import numpy as np\n",
    "\n",
    "\n",
    "class MovingWindow:\n",
    "    def __init__(self, day):\n",
    "        self.day = day\n",
    "        self.ticker = _config_dataset[\"ticker\"]\n",
    "        self.level = _config_dataset[\"orderbook_level\"]\n",
    "        self.T = _config_dataset[\"time_window\"]\n",
    "        self.W = _config_dataset[\"price_window\"]\n",
    "        self.max_quantity = _config_dataset[\"max_amount\"]\n",
    "        self.predict_horizon = _config_dataset[\"predict_horizon\"]\n",
    "        self.threshold = _config_dataset[\"threshold\"]\n",
    "\n",
    "\n",
    "        file_path = get_file_path(\"orderbook\", self.ticker, day)\n",
    "        self.orderbook_time, self.orderbook_data = load_orderbook_data(file_path)\n",
    "        self.movingwindow = []\n",
    "        self.ticks = []\n",
    "\n",
    "        self.start_idx = max(self.T - 1, self.predict_horizon)\n",
    "        self.end_idx = len(self.orderbook_data) - self.predict_horizon - 1\n",
    "\n",
    "        self.midprice = []\n",
    "        self.ask1 = []\n",
    "        self.bid1 = []\n",
    "        self.midprice_idx = []\n",
    "        self.__fill_movingwindow__(self.orderbook_data)\n",
    "\n",
    "        self.label = []\n",
    "        self.__fill_label__()\n",
    "\n",
    "    def __len__(self):\n",
    "        return self.end_idx - self.start_idx + 1\n",
    "    \n",
    "    def __moving_window_shot__(self, lob, ticks, data_min, data_max):\n",
    "        lob_shot = lob.copy()\n",
    "        lob_shot[:, 1:4:2] = np.minimum(lob_shot[:, 1:4:2], self.max_quantity)\n",
    "        lob_shot[:,3] = -lob_shot[:,3]\n",
    "\n",
    "        for i in range(1, lob_shot.shape[0]):\n",
    "            lob_shot[i, 1:4:2] = lob_shot[i-1, 1:4:2] + lob_shot[i, 1:4:2]\n",
    "\n",
    "        ask_side = lob_shot[:, 0:2]\n",
    "        bid_side = lob_shot[::-1, 2:4]\n",
    "\n",
    "        midprice = (ask_side[0, 0] + bid_side[0, 0]) / 2\n",
    "        ask1 = ask_side[0, 0]\n",
    "        bid1 = bid_side[0, 0]\n",
    "        midprice_idx = round(midprice - (data_min - self.W))\n",
    "\n",
    "        moving_window_shot = np.zeros(ticks.shape)\n",
    "\n",
    "        # bid side\n",
    "        for i in range(5):\n",
    "            if i == 0:\n",
    "                start_idx = 0\n",
    "            else:\n",
    "                start_idx = bid_side[i-1, 0] - (data_min - self.W) + 1\n",
    "            end_idx = bid_side[i, 0] - (data_min - self.W)\n",
    "            moving_window_shot[start_idx:end_idx+1] = bid_side[i, 1]\n",
    "\n",
    "        # ask side\n",
    "        for i in range(5):\n",
    "            if i == 4:\n",
    "                end_idx = len(moving_window_shot)\n",
    "            else:\n",
    "                end_idx = ask_side[i + 1, 0] - (data_min - self.W) + 1\n",
    "            start_idx = ask_side[i, 0] - (data_min - self.W)\n",
    "            moving_window_shot[start_idx:end_idx+1] = ask_side[i, 1]\n",
    "\n",
    "        return moving_window_shot, midprice, ask1, bid1, midprice_idx\n",
    "\n",
    "\n",
    "    def __fill_movingwindow__(self, data):\n",
    "        processed_data = []\n",
    "        midprice = []\n",
    "        ask1 = []\n",
    "        bid1 = []\n",
    "        midprice_idx = []\n",
    "\n",
    "        data_min = np.min(data[:,:,0:3:2].flatten())\n",
    "        data_max = np.max(data[:,:,0:3:2].flatten())\n",
    "        ticks = np.arange(data_min - self.W, data_max + self.W + 1, 1)\n",
    "\n",
    "        for i in range(data.shape[0]):\n",
    "            lob_shot, midprice_, ask_1, bid_1, midprice_idx_ = self.__moving_window_shot__(data[i], ticks, data_min, data_max)\n",
    "            processed_data.append(lob_shot)\n",
    "            midprice.append(midprice_)\n",
    "            ask1.append(ask_1)\n",
    "            bid1.append(bid_1)\n",
    "            midprice_idx.append(midprice_idx_)\n",
    "\n",
    "        self.movingwindow = np.array(processed_data) / (self.max_quantity * 5)\n",
    "        self.ticks = ticks\n",
    "        self.midprice = np.array(midprice)\n",
    "        self.ask1 = np.array(ask1)\n",
    "        self.bid1 = np.array(bid1)\n",
    "        self.midprice_idx = np.array(midprice_idx)\n",
    "        \n",
    "\n",
    "    def __fill_label__(self):\n",
    "        label = np.zeros(self.end_idx - self.start_idx + 1)\n",
    "\n",
    "        for index in range(self.end_idx - self.start_idx + 1):\n",
    "            index_re = index + self.start_idx\n",
    "            m_prev = np.mean(self.midprice[index_re - self.predict_horizon:index_re])\n",
    "            m_next = np.mean(self.midprice[index_re + 1:index_re + self.predict_horizon + 1])\n",
    "            l = (m_next - m_prev) / m_prev\n",
    "\n",
    "            if l > self.threshold:\n",
    "                tmp_label = 2\n",
    "            elif l < -self.threshold:\n",
    "                tmp_label = 0\n",
    "            else:\n",
    "                tmp_label = 1\n",
    "            label[index] = tmp_label\n",
    "        self.label = label\n",
    "        # self.movingwindow = self.movingwindow[self.start_idx: self.end_idx + 1]\n",
    "        # self.midprice_idx = self.midprice_idx[self.start_idx: self.end_idx + 1]\n",
    "        # self.midprice = self.midprice[self.start_idx: self.end_idx + 1]\n",
    "        # self.ask1 = self.ask1[self.start_idx: self.end_idx + 1]\n",
    "        # self.bid1 = self.bid1[self.start_idx: self.end_idx + 1]\n",
    "\n",
    "    def __getitem__(self, index):\n",
    "        index_re = index + self.start_idx\n",
    "        shot = self.movingwindow[index_re-self.T+1:index_re+1,\n",
    "                                 self.midprice_idx[index_re]-self.W:self.midprice_idx[index_re]+self.W].T\n",
    "        return np.expand_dims(shot, axis=0), self.label[index]\n",
    "    \n",
    "    def get_price(self):\n",
    "        return self.midprice[self.start_idx:self.end_idx + 1], \\\n",
    "               self.ask1[self.start_idx:self.end_idx + 1], \\\n",
    "               self.bid1[self.start_idx:self.end_idx + 1]\n"
   ]
  },
  {
   "cell_type": "code",
   "execution_count": 4,
   "metadata": {
    "ExecuteTime": {
     "end_time": "2024-03-08T06:34:51.863120Z",
     "start_time": "2024-03-08T06:34:51.461154Z"
    }
   },
   "outputs": [],
   "source": [
    "#from multiprocessing import Pool\n",
    "from ray.util.multiprocessing import Pool\n",
    "\n",
    "class Dataset:\n",
    "    def __init__(self, days):\n",
    "        self.days = days\n",
    "        self.day_datasets = []\n",
    "\n",
    "        with Pool() as pool:\n",
    "            self.day_datasets = pool.map(MovingWindow, self.days)\n",
    "\n",
    "\n",
    "def get_datasets(verbose=False):\n",
    "    days = get_days_list(_config_dataset[\"ticker\"])\n",
    "\n",
    "    val_length = max(round(len(days) * _config_dataset[\"val_ratio\"]), 1)\n",
    "    test_length = max(round(len(days) * _config_dataset[\"test_ratio\"]), 1)\n",
    "    train_length = len(days) - (val_length + test_length)\n",
    "\n",
    "    train_days = days[:train_length]#[:2]\n",
    "    val_days = days[train_length:train_length + val_length]#[:1]\n",
    "    test_days = days[train_length + val_length:]#[:1]\n",
    "\n",
    "    if verbose:\n",
    "        print(f\"% {len(train_days)} days for train ({train_days[0]} ~ {train_days[-1]})\")\n",
    "        print(f\"% {len(val_days)} days for validation ({val_days[0]} ~ {val_days[-1]})\")\n",
    "        print(f\"% {len(test_days)} days for test ({test_days[0]} ~ {test_days[-1]})\")\n",
    "\n",
    "    train_dataset = Dataset(train_days)\n",
    "    val_dataset = Dataset(val_days)\n",
    "    test_dataset = Dataset(test_days)\n",
    "\n",
    "    return train_dataset, val_dataset, test_dataset\n"
   ]
  },
  {
   "cell_type": "code",
   "execution_count": 5,
   "metadata": {
    "ExecuteTime": {
     "end_time": "2024-03-08T06:35:16.370190Z",
     "start_time": "2024-03-08T06:34:51.864635Z"
    }
   },
   "outputs": [
    {
     "name": "stdout",
     "output_type": "stream",
     "text": [
      "% 38 days for train (2023-04-03 ~ 2023-05-26)\n",
      "% 15 days for validation (2023-05-30 ~ 2023-06-21)\n",
      "% 23 days for test (2023-06-22 ~ 2023-07-24)\n"
     ]
    },
    {
     "name": "stderr",
     "output_type": "stream",
     "text": [
      "2024-03-08 22:20:40,212\tINFO worker.py:1673 -- Started a local Ray instance.\n"
     ]
    }
   ],
   "source": [
    "train_dataset, val_dataset, test_dataset = get_datasets(verbose=True)"
   ]
  },
  {
   "cell_type": "code",
   "execution_count": 6,
   "metadata": {
    "ExecuteTime": {
     "end_time": "2024-03-08T06:35:16.374350Z",
     "start_time": "2024-03-08T06:35:16.370190Z"
    }
   },
   "outputs": [],
   "source": [
    "test_loader = torch.utils.data.DataLoader(test_dataset.day_datasets[0], batch_size=64, shuffle=False)"
   ]
  },
  {
   "cell_type": "code",
   "execution_count": 7,
   "metadata": {
    "ExecuteTime": {
     "end_time": "2024-03-08T06:35:16.387587Z",
     "start_time": "2024-03-08T06:35:16.375355Z"
    }
   },
   "outputs": [
    {
     "data": {
      "text/plain": [
       "(1, 20, 100)"
      ]
     },
     "execution_count": 7,
     "metadata": {},
     "output_type": "execute_result"
    }
   ],
   "source": [
    "test_dataset.day_datasets[0][2][0].shape"
   ]
  },
  {
   "cell_type": "code",
   "execution_count": 8,
   "metadata": {
    "ExecuteTime": {
     "end_time": "2024-03-08T06:35:16.401319Z",
     "start_time": "2024-03-08T06:35:16.388485Z"
    }
   },
   "outputs": [
    {
     "name": "stdout",
     "output_type": "stream",
     "text": [
      "torch.Size([64, 1, 20, 100]) torch.Size([64])\n"
     ]
    },
    {
     "name": "stderr",
     "output_type": "stream",
     "text": [
      "C:\\Users\\Cheon\\Dev\\deepcheese\\.venv\\Lib\\site-packages\\torch\\utils\\data\\_utils\\collate.py:183: UserWarning: The given NumPy array is not writable, and PyTorch does not support non-writable tensors. This means writing to this tensor will result in undefined behavior. You may want to copy the array to protect its data or make it writable before converting it to a tensor. This type of warning will be suppressed for the rest of this program. (Triggered internally at ..\\torch\\csrc\\utils\\tensor_numpy.cpp:212.)\n",
      "  return collate([torch.as_tensor(b) for b in batch], collate_fn_map=collate_fn_map)\n"
     ]
    }
   ],
   "source": [
    "for data, label in test_loader:\n",
    "    print(data.shape, label.shape)\n",
    "    break"
   ]
  },
  {
   "cell_type": "code",
   "execution_count": 9,
   "metadata": {
    "ExecuteTime": {
     "end_time": "2024-03-08T06:35:16.408929Z",
     "start_time": "2024-03-08T06:35:16.402326Z"
    }
   },
   "outputs": [],
   "source": [
    "def get_loader(dataset, batch_size):\n",
    "    loaders = []\n",
    "    for day_dataset in dataset.day_datasets:\n",
    "        loaders.append(torch.utils.data.DataLoader(day_dataset, batch_size=batch_size, shuffle=True))\n",
    "    return loaders\n",
    "\n",
    "train_loader = get_loader(train_dataset, 512)\n",
    "val_loader = get_loader(val_dataset, 512)\n",
    "test_loader = get_loader(test_dataset, 512)"
   ]
  },
  {
   "cell_type": "code",
   "execution_count": 10,
   "metadata": {
    "ExecuteTime": {
     "end_time": "2024-03-08T06:35:16.440941Z",
     "start_time": "2024-03-08T06:35:16.409936Z"
    }
   },
   "outputs": [
    {
     "name": "stdout",
     "output_type": "stream",
     "text": [
      "% label distribution\n",
      "246208\n",
      "343859\n",
      "250294\n",
      "% label distribution\n",
      "86304\n",
      "153492\n",
      "87580\n",
      "% label distribution\n",
      "146713\n",
      "214710\n",
      "159929\n"
     ]
    }
   ],
   "source": [
    "def get_label(dataset):\n",
    "        label = []\n",
    "        for day_dataset in dataset.day_datasets:\n",
    "            label.append(day_dataset.label)\n",
    "        label = np.concatenate(label, 0)\n",
    "        return label\n",
    "\n",
    "\n",
    "for dataset in [train_dataset, val_dataset, test_dataset]:\n",
    "    label = get_label(dataset)\n",
    "    print(\"% label distribution\")\n",
    "    for i in [0, 1, 2]:\n",
    "        print(len(np.where(label == i)[0]))"
   ]
  },
  {
   "cell_type": "code",
   "execution_count": 11,
   "metadata": {
    "ExecuteTime": {
     "end_time": "2024-03-08T06:35:16.464835Z",
     "start_time": "2024-03-08T06:35:16.441950Z"
    }
   },
   "outputs": [
    {
     "name": "stdout",
     "output_type": "stream",
     "text": [
      "torch.Size([512, 1, 20, 100]) torch.Size([512])\n"
     ]
    }
   ],
   "source": [
    "for day_loader in train_loader:\n",
    "    for data, label in day_loader:\n",
    "        print(data.shape, label.shape)\n",
    "        break\n",
    "    break"
   ]
  },
  {
   "cell_type": "code",
   "execution_count": 12,
   "metadata": {
    "ExecuteTime": {
     "end_time": "2024-03-08T06:35:16.478745Z",
     "start_time": "2024-03-08T06:35:16.465840Z"
    }
   },
   "outputs": [],
   "source": [
    "device = torch.device(\"cuda:0\" if torch.cuda.is_available() else \"cpu\")\n",
    "\n",
    "class LSTM(torch.nn.Module):\n",
    "    def __init__(self):\n",
    "        super(LSTM, self).__init__()\n",
    "        self.input_size = _config_dataset[\"price_window\"] * 2\n",
    "        self.num_layers = 1\n",
    "        self.output_size = 3\n",
    "        self.hidden_size = 64\n",
    "        self.lstm = torch.nn.LSTM(self.input_size, self.hidden_size, self.num_layers, batch_first=True)\n",
    "        self.fc1 = torch.nn.Linear(64, 32)\n",
    "        self.fc2 = torch.nn.Linear(32, self.output_size)\n",
    "        self.relu = torch.nn.ReLU()\n",
    "\n",
    "    def forward(self, x):\n",
    "        x = x.squeeze(1)\n",
    "        x = x.permute(0, 2, 1)\n",
    "        h0 = torch.zeros(self.num_layers, x.size(0), self.hidden_size).to(device)\n",
    "        c0 = torch.zeros(self.num_layers, x.size(0), self.hidden_size).to(device)\n",
    "        out, _ = self.lstm(x, (h0, c0))\n",
    "        out = self.fc1(out[:, -1, :])\n",
    "        out = self.relu(out)\n",
    "        out = self.fc2(out)\n",
    "        return out\n",
    "    \n",
    "class MLP(torch.nn.Module):\n",
    "    def __init__(self):\n",
    "        super(MLP, self).__init__()\n",
    "        self.input_size = _config_dataset[\"time_window\"] * _config_dataset[\"price_window\"] * 2\n",
    "        self.fc0 = torch.nn.Linear(self.input_size, 100)\n",
    "        self.fc1 = torch.nn.Linear(100, 50)\n",
    "        self.fc2 = torch.nn.Linear(50, 3)\n",
    "        self.relu = torch.nn.ReLU()\n",
    "\n",
    "    def forward(self, x):\n",
    "        x = x.reshape(-1, self.input_size)\n",
    "        out = self.fc0(x)\n",
    "        out = self.relu(out)\n",
    "        out = self.fc1(out)\n",
    "        out = self.relu(out)\n",
    "        out = self.fc2(out)\n",
    "        return out\n",
    "    \n",
    "class CNN(torch.nn.Module):\n",
    "    def __init__(self):\n",
    "        super(CNN, self).__init__()\n",
    "        self.conv1 = torch.nn.Conv2d(1, 32, kernel_size=(3, 3), stride=(1, 1), padding=(1, 1))\n",
    "        self.conv2 = torch.nn.Conv2d(32, 64, kernel_size=(3, 3), stride=(1, 1), padding=(1, 1))\n",
    "        self.conv3 = torch.nn.Conv2d(64, 128, kernel_size=(3, 3), stride=(1, 1), padding=(1, 1))\n",
    "        self.fc1 = torch.nn.Linear(3072, 3)\n",
    "        self.relu = torch.nn.ReLU()\n",
    "        self.maxpool = torch.nn.MaxPool2d(kernel_size=(2, 2), stride=(2, 2))\n",
    "        self.dropout = torch.nn.Dropout(0.5)\n",
    "\n",
    "    def forward(self, x):\n",
    "        x = x.permute(0, 1, 3, 2)\n",
    "        out = self.conv1(x)\n",
    "        out = self.relu(out)\n",
    "        out = self.maxpool(out)\n",
    "        out = self.conv2(out)\n",
    "        out = self.relu(out)\n",
    "        out = self.maxpool(out)\n",
    "        out = self.conv3(out)\n",
    "        out = self.relu(out)\n",
    "        out = self.maxpool(out)\n",
    "        out = out.reshape(out.size(0), -1)\n",
    "        out = self.fc1(out)\n",
    "        return out"
   ]
  },
  {
   "cell_type": "code",
   "execution_count": 13,
   "metadata": {
    "ExecuteTime": {
     "end_time": "2024-03-08T06:35:17.310172Z",
     "start_time": "2024-03-08T06:35:16.479751Z"
    }
   },
   "outputs": [
    {
     "name": "stderr",
     "output_type": "stream",
     "text": [
      "C:\\Users\\Cheon\\Dev\\deepcheese\\.venv\\Lib\\site-packages\\torch\\optim\\lr_scheduler.py:28: UserWarning: The verbose parameter is deprecated. Please use get_last_lr() to access the learning rate.\n",
      "  warnings.warn(\"The verbose parameter is deprecated. Please use get_last_lr() \"\n"
     ]
    }
   ],
   "source": [
    "model = MLP().to(device)\n",
    "\n",
    "optimizer = torch.optim.Adam(model.parameters(), lr=0.00001)\n",
    "criterion = torch.nn.CrossEntropyLoss()\n",
    "scheduler = torch.optim.lr_scheduler.ReduceLROnPlateau(optimizer, mode='min', factor=0.1, patience=5, verbose=True)\n"
   ]
  },
  {
   "cell_type": "code",
   "execution_count": 14,
   "metadata": {
    "ExecuteTime": {
     "end_time": "2024-03-08T06:35:17.319174Z",
     "start_time": "2024-03-08T06:35:17.312180Z"
    }
   },
   "outputs": [
    {
     "data": {
      "text/plain": [
       "torch.Size([64, 3])"
      ]
     },
     "execution_count": 14,
     "metadata": {},
     "output_type": "execute_result"
    }
   ],
   "source": [
    "model(torch.rand((64, 1, _config_dataset[\"price_window\"] * 2, _config_dataset[\"time_window\"])).to(device)).shape"
   ]
  },
  {
   "cell_type": "code",
   "execution_count": 15,
   "metadata": {
    "ExecuteTime": {
     "end_time": "2024-03-08T06:35:17.328919Z",
     "start_time": "2024-03-08T06:35:17.320178Z"
    }
   },
   "outputs": [],
   "source": [
    "import torch\n",
    "import numpy as np\n",
    "\n",
    "\n",
    "device = torch.device(\"cuda:0\" if torch.cuda.is_available() else \"cpu\")\n",
    "\n",
    "def train(model, train_loader, optimizer, criterion):\n",
    "    model.train()\n",
    "    running_loss = []\n",
    "    running_acc = []\n",
    "    for day_loader in train_loader:\n",
    "        for input, target in day_loader:\n",
    "            input = input.to(device, dtype=torch.float)\n",
    "            target = target.to(device, dtype=torch.int64)\n",
    "\n",
    "            optimizer.zero_grad()\n",
    "            output = model(input)\n",
    "            loss = criterion(output, target)\n",
    "            acc = (torch.count_nonzero(torch.argmax(output, dim=1) == target).item()\n",
    "                   / target.size(0))\n",
    "\n",
    "            loss.backward()\n",
    "            optimizer.step()\n",
    "            running_loss.append(loss.item())\n",
    "            running_acc.append(acc)\n",
    "    epoch_loss = np.mean(running_loss)\n",
    "    epoch_acc = np.mean(running_acc)\n",
    "    return epoch_loss, epoch_acc\n",
    "\n",
    "\n",
    "def validation(model, test_loader, criterion, scheduler):\n",
    "    model.eval()\n",
    "    running_loss = []\n",
    "    running_acc = []\n",
    "    for day_loader in test_loader:\n",
    "        for input, target in day_loader:\n",
    "            input = input.to(device, dtype=torch.float)\n",
    "            target = target.to(device, dtype=torch.int64)\n",
    "\n",
    "            output = model(input)\n",
    "            loss = criterion(output, target)\n",
    "            acc = (torch.count_nonzero(torch.argmax(output, dim=1) == target).item()\n",
    "                   / target.size(0))\n",
    "\n",
    "            running_loss.append(loss.item())\n",
    "            running_acc.append(acc)\n",
    "    epoch_loss = np.mean(running_loss)\n",
    "    epoch_acc = np.mean(running_acc)\n",
    "    scheduler.step(epoch_loss)\n",
    "    return epoch_loss, epoch_acc"
   ]
  },
  {
   "cell_type": "code",
   "execution_count": 16,
   "metadata": {
    "ExecuteTime": {
     "end_time": "2024-03-08T06:36:55.722165Z",
     "start_time": "2024-03-08T06:35:17.329922Z"
    }
   },
   "outputs": [
    {
     "name": "stdout",
     "output_type": "stream",
     "text": [
      "Epoch 1/5\n",
      "Train Loss: 0.8304 | Train Acc: 0.6203\n",
      "Val Loss: 0.7914 | Val Acc: 0.6477\n",
      "Epoch 2/5\n",
      "Train Loss: 0.8109 | Train Acc: 0.6258\n",
      "Val Loss: 0.7919 | Val Acc: 0.6471\n",
      "Epoch 3/5\n",
      "Train Loss: 0.8096 | Train Acc: 0.6264\n",
      "Val Loss: 0.7904 | Val Acc: 0.6481\n",
      "Epoch 4/5\n",
      "Train Loss: 0.8087 | Train Acc: 0.6268\n",
      "Val Loss: 0.7906 | Val Acc: 0.6482\n",
      "Epoch 5/5\n",
      "Train Loss: 0.8078 | Train Acc: 0.6272\n",
      "Val Loss: 0.7897 | Val Acc: 0.6481\n"
     ]
    }
   ],
   "source": [
    "epochs = 5\n",
    "\n",
    "train_loss = []\n",
    "train_acc = []\n",
    "val_loss = []\n",
    "val_acc = []\n",
    "\n",
    "for epoch in range(epochs):\n",
    "    print(f\"Epoch {epoch+1}/{epochs}\")\n",
    "    train_epoch_loss, train_epoch_acc = train(model, train_loader, optimizer, criterion)\n",
    "    val_epoch_loss, val_epoch_acc = validation(model, val_loader, criterion, scheduler)\n",
    "\n",
    "    train_loss.append(train_epoch_loss)\n",
    "    train_acc.append(train_epoch_acc)\n",
    "    val_loss.append(val_epoch_loss)\n",
    "    val_acc.append(val_epoch_acc)\n",
    "\n",
    "    print(f\"Train Loss: {train_epoch_loss:.4f} | Train Acc: {train_epoch_acc:.4f}\")\n",
    "    print(f\"Val Loss: {val_epoch_loss:.4f} | Val Acc: {val_epoch_acc:.4f}\")"
   ]
  },
  {
   "cell_type": "code",
   "execution_count": 143,
   "metadata": {
    "ExecuteTime": {
     "end_time": "2024-03-08T11:30:45.125906Z",
     "start_time": "2024-03-08T11:30:45.122662Z"
    }
   },
   "outputs": [],
   "source": [
    "example_day = train_dataset.day_datasets[0]\n",
    "\n",
    "midprice, ask1, bid1 = example_day.get_price()"
   ]
  },
  {
   "cell_type": "code",
   "execution_count": 144,
   "metadata": {
    "ExecuteTime": {
     "end_time": "2024-03-08T11:30:45.895456Z",
     "start_time": "2024-03-08T11:30:45.631234Z"
    }
   },
   "outputs": [],
   "source": [
    "example_loader = torch.utils.data.DataLoader(example_day, batch_size=512, shuffle=False)\n",
    "\n",
    "pred = []\n",
    "conf = []\n",
    "for input, target in example_loader:\n",
    "    input = input.to(device, dtype=torch.float)\n",
    "    target = target.to(device, dtype=torch.int64)\n",
    "\n",
    "    output = model(input)\n",
    "    temp_pred = torch.argmax(output, dim=1).cpu().detach().numpy()\n",
    "    temp_conf = np.max(torch.nn.functional.softmax(output, dim=1).cpu().detach().numpy(), axis=1)\n",
    "    pred.append(temp_pred)\n",
    "    conf.append(temp_conf)\n",
    "pred = np.concatenate(pred, 0)\n",
    "conf = np.concatenate(conf, 0)"
   ]
  },
  {
   "cell_type": "code",
   "execution_count": 145,
   "metadata": {
    "ExecuteTime": {
     "end_time": "2024-03-08T11:30:47.078203Z",
     "start_time": "2024-03-08T11:30:46.125486Z"
    }
   },
   "outputs": [
    {
     "data": {
      "text/plain": [
       "Text(0, 0.5, 'Label')"
      ]
     },
     "execution_count": 145,
     "metadata": {},
     "output_type": "execute_result"
    },
    {
     "data": {
      "image/png": "[encoded data removed]",
      "text/plain": [
       "<Figure size 1500x600 with 2 Axes>"
      ]
     },
     "metadata": {},
     "output_type": "display_data"
    }
   ],
   "source": [
    "plt.figure(figsize=(15, 6))\n",
    "plt.subplot(2, 1, 1)\n",
    "plt.scatter(np.arange(len(midprice)), midprice, s=0.5, c=pred, cmap='coolwarm')\n",
    "plt.ylabel(\"Prediction\")\n",
    "plt.subplot(2, 1, 2)\n",
    "plt.scatter(np.arange(len(midprice)), midprice, s=0.5, c=example_day.label, cmap='coolwarm')\n",
    "plt.ylabel(\"Label\")"
   ]
  },
  {
   "cell_type": "code",
   "execution_count": 146,
   "metadata": {
    "ExecuteTime": {
     "end_time": "2024-03-08T11:30:49.304685Z",
     "start_time": "2024-03-08T11:30:49.278062Z"
    }
   },
   "outputs": [
    {
     "name": "stdout",
     "output_type": "stream",
     "text": [
      "0.6431867535287731\n",
      "              precision    recall  f1-score   support\n",
      "\n",
      "         0.0       0.63      0.64      0.63      5863\n",
      "         1.0       0.62      0.72      0.67     10225\n",
      "         2.0       0.72      0.52      0.60      6016\n",
      "\n",
      "    accuracy                           0.64     22104\n",
      "   macro avg       0.66      0.63      0.63     22104\n",
      "weighted avg       0.65      0.64      0.64     22104\n",
      "\n",
      "[[0.64096879 0.33122975 0.02780147]\n",
      " [0.17828851 0.71726161 0.10444988]\n",
      " [0.06615691 0.41439495 0.51944814]]\n"
     ]
    }
   ],
   "source": [
    "from sklearn.metrics import accuracy_score, classification_report, confusion_matrix\n",
    "\n",
    "print(accuracy_score(example_day.label, pred))\n",
    "print(classification_report(example_day.label, pred))\n",
    "print(confusion_matrix(example_day.label, pred, normalize='true'))"
   ]
  },
  {
   "cell_type": "code",
   "execution_count": 156,
   "metadata": {
    "ExecuteTime": {
     "end_time": "2024-03-08T11:38:08.899250Z",
     "start_time": "2024-03-08T11:38:08.894554Z"
    }
   },
   "outputs": [],
   "source": [
    "class RLDataset(torch.utils.data.Dataset):\n",
    "    def __init__(self, day, dataset, label, midprice, ask1, bid1):\n",
    "        self.day = day\n",
    "\n",
    "        self.dataset = dataset\n",
    "        self.label = label\n",
    "        self.midprice = midprice\n",
    "        self.ask1 = ask1\n",
    "        self.bid1 = bid1\n",
    "\n",
    "    def __len__(self):\n",
    "        return len(self.midprice)\n",
    "\n",
    "    def __getitem__(self, idx):\n",
    "        return self.dataset[idx]\n",
    "        \n",
    "    def __getprice__(self):\n",
    "        return self.midprice, self.ask1, self.bid1"
   ]
  },
  {
   "cell_type": "code",
   "execution_count": 157,
   "metadata": {
    "ExecuteTime": {
     "end_time": "2024-03-08T11:38:43.761418Z",
     "start_time": "2024-03-08T11:38:43.757058Z"
    }
   },
   "outputs": [],
   "source": [
    "def get_rl_dataset(dataset):\n",
    "    midprice, ask1, bid1 = dataset.get_price()\n",
    "    day = dataset.day\n",
    "\n",
    "    example_loader = torch.utils.data.DataLoader(dataset, batch_size=512, shuffle=False)\n",
    "    \n",
    "    conf = []\n",
    "    label = []\n",
    "    for input, target in example_loader:\n",
    "        input = input.to(device, dtype=torch.float)\n",
    "        target = target.to(device, dtype=torch.int64)\n",
    "        output = model(input)\n",
    "        temp_conf = torch.nn.functional.softmax(output, dim=1).cpu().detach().numpy()\n",
    "        conf.append(temp_conf)\n",
    "        label.append(target.cpu().detach().numpy())\n",
    "    conf = np.concatenate(conf, axis=0)\n",
    "    label = np.concatenate(label, axis=0)\n",
    "\n",
    "    return RLDataset(day, conf, label, midprice, ask1, bid1)"
   ]
  },
  {
   "cell_type": "code",
   "execution_count": 158,
   "metadata": {
    "ExecuteTime": {
     "end_time": "2024-03-08T11:38:44.961653Z",
     "start_time": "2024-03-08T11:38:44.724417Z"
    }
   },
   "outputs": [],
   "source": [
    "temp_day = train_dataset.day_datasets[0]\n",
    "rl_dataset = get_rl_dataset(temp_day)"
   ]
  },
  {
   "cell_type": "code",
   "execution_count": 159,
   "metadata": {
    "ExecuteTime": {
     "end_time": "2024-03-08T11:39:02.854251Z",
     "start_time": "2024-03-08T11:38:45.638747Z"
    }
   },
   "outputs": [],
   "source": [
    "def get_rl_loader(dataset):\n",
    "    loaders = []\n",
    "    for day_dataset in dataset.day_datasets:\n",
    "        loaders.append(get_rl_dataset(day_dataset))\n",
    "    return loaders\n",
    "\n",
    "rl_train_loader = get_rl_loader(train_dataset)\n",
    "rl_val_loader = get_rl_loader(val_dataset)\n",
    "rl_test_loader = get_rl_loader(test_dataset)"
   ]
  },
  {
   "cell_type": "code",
   "execution_count": 152,
   "metadata": {
    "ExecuteTime": {
     "end_time": "2024-03-08T11:31:26.823319Z",
     "start_time": "2024-03-08T11:31:26.813743Z"
    }
   },
   "outputs": [],
   "source": [
    "from ray.util.multiprocessing import Pool\n",
    "import gymnasium as gym\n",
    "from gymnasium import spaces\n",
    "\n",
    "class MarketEnv(gym.Env):\n",
    "    def __init__(self, rl_loader) -> None:\n",
    "        self.day_datasets = rl_loader\n",
    "        self.days = [day_dataset.day for day_dataset in self.day_datasets]\n",
    "        \n",
    "        self.observation_space = spaces.Dict({\n",
    "            \"position\": spaces.Box(low=-1, high=1, shape=(1, ), dtype=np.float64),\n",
    "            \"obs\": spaces.Box(low=0, high=1, shape=(3, ), dtype=np.float64)\n",
    "        })\n",
    "        self.action_space = spaces.Discrete(3)\n",
    "\n",
    "        self.reset()\n",
    "\n",
    "    def reset(self, seed=None):\n",
    "        self.day_idx = np.random.randint(len(self.days))\n",
    "        self.day = self.days[self.day_idx]\n",
    "        self.day_dataset = self.day_datasets[self.day_idx]\n",
    "        self.day_len = len(self.day_dataset)\n",
    "        self.max_position = 5\n",
    "        self.fee = 0.003 / 100\n",
    "\n",
    "        self.t = 0\n",
    "        self.t_max = self.day_len - 1\n",
    "\n",
    "        self.midprice, self.ask1, self.bid1 = self.day_dataset.__getprice__()\n",
    "        self.cumulative_reward = np.zeros(self.day_len)\n",
    "        self.position = np.zeros(self.day_len)\n",
    "        self.cash = np.zeros(self.day_len)\n",
    "        self.balance = np.zeros(self.day_len)\n",
    "        \n",
    "        self.trade_timing = 0\n",
    "        self.trade_count = 0\n",
    "        \n",
    "        self.long_inventory = []\n",
    "        self.short_inventory = []\n",
    "        return {\"position\": np.array([self.position[self.t]/self.max_position]), \"obs\": self.day_dataset[self.t]}, {}\n",
    "\n",
    "    def step(self, action):\n",
    "        self.t += 1\n",
    "        \n",
    "        # action: 0 - hold, 1 - buy, 2 - sell\n",
    "        if action == 1 and self.position[self.t - 1] < self.max_position:\n",
    "            position_change = 1\n",
    "        elif action == 2 and self.position[self.t - 1] > 0:#-self.max_position:\n",
    "            position_change = -1\n",
    "        else:\n",
    "            position_change = 0\n",
    "            \n",
    "        # position_change = action - self.position[self.t - 1]\n",
    "        \n",
    "        # trading price\n",
    "        if position_change == 1:\n",
    "            trade_price = self.ask1[self.t]\n",
    "        elif position_change == -1:\n",
    "            trade_price = self.bid1[self.t]\n",
    "        else:\n",
    "            trade_price = self.midprice[self.t]\n",
    "        \n",
    "        self.position[self.t] = self.position[self.t - 1] + position_change\n",
    "        self.cash[self.t] = self.cash[self.t - 1] - trade_price * position_change - abs(position_change) * self.fee * trade_price\n",
    "        self.balance[self.t] = self.cash[self.t] + self.position[self.t] * self.midprice[self.t]\n",
    "        \n",
    "        # if position_change == 0:\n",
    "        #     reward = 0\n",
    "        # else:\n",
    "        #     if position_change == 1 and self.position[self.t] == 0:\n",
    "        #         reward = self.balance[self.t] - self.balance[self.trade_timing]\n",
    "        #     elif position_change == -1 and self.position[self.t] == 0:\n",
    "        #         reward = self.balance[self.t] - self.balance[self.trade_timing]\n",
    "        #     else:\n",
    "        #         reward = 0\n",
    "\n",
    "        if position_change != 0:\n",
    "            self.trade_timing = self.t\n",
    "            self.trade_count += 1\n",
    "            \n",
    "        reward = (self.balance[self.t] - self.balance[self.t - 1])\n",
    "\n",
    "        # if position_change ==0:\n",
    "        #     reward -= 0.1\n",
    "            \n",
    "        self.cumulative_reward[self.t] = self.cumulative_reward[self.t - 1] + reward\n",
    "        done = self.t == self.t_max\n",
    "\n",
    "        if done:\n",
    "            state = None\n",
    "            print(f\"Day: {self.day}, Cumulative Reward: {self.cumulative_reward[self.t]}, Balance: {self.balance[self.t]}, Trade Count: {self.trade_count}\")\n",
    "            info = {\n",
    "                \"position\": self.position,\n",
    "                \"balance\": self.balance,\n",
    "                \"cumulative_reward\": self.cumulative_reward,\n",
    "                \"midprice\": self.midprice\n",
    "            }\n",
    "        else:\n",
    "            state = self.day_dataset[self.t]\n",
    "            info = {\n",
    "                \"position\": self.position[self.t],\n",
    "                \"balance\": self.balance[self.t],\n",
    "                \"cumulative_reward\": self.cumulative_reward[self.t],\n",
    "                \"midprice\": self.midprice[self.t]\n",
    "            }\n",
    "        \n",
    "        state_pos = np.array([self.position[self.t]/self.max_position])\n",
    "        truncated = False\n",
    "        return {\"position\": np.array([self.position[self.t]/self.max_position]), \"obs\": state}, reward, done, truncated, info\n",
    "    \n",
    "    def evaluate_balance(self):\n",
    "        self.position_history[self.t] = self.position\n",
    "        self.balance_history[self.t] = self.balance\n",
    "        self.cumulative_reward_history[self.t] = self.cumulative_reward\n",
    "        return self.balance_history[-1]\n",
    "    \n",
    "    def close(self):\n",
    "        pass\n",
    "        "
   ]
  },
  {
   "cell_type": "code",
   "execution_count": 153,
   "metadata": {
    "ExecuteTime": {
     "end_time": "2024-03-08T11:31:27.468046Z",
     "start_time": "2024-03-08T11:31:27.462720Z"
    }
   },
   "outputs": [],
   "source": [
    "from stable_baselines3.common.env_checker import check_env\n",
    "\n",
    "train_env = MarketEnv(rl_train_loader)\n",
    "val_env = MarketEnv(rl_val_loader)\n",
    "test_env = MarketEnv(rl_test_loader)\n",
    "\n",
    "check_env(train_env)"
   ]
  },
  {
   "cell_type": "code",
   "execution_count": 154,
   "metadata": {
    "ExecuteTime": {
     "end_time": "2024-03-08T11:31:27.958177Z",
     "start_time": "2024-03-08T11:31:27.951172Z"
    }
   },
   "outputs": [],
   "source": [
    "from stable_baselines3 import PPO\n",
    "from stable_baselines3.common.callbacks import EvalCallback\n",
    "\n",
    "eval_callback = EvalCallback(val_env, best_model_save_path=_config_path[\"model_path\"],\n",
    "                                log_path=_config_path[\"model_path\"], eval_freq=100000,\n",
    "                                deterministic=True, render=True, n_eval_episodes=3)\n",
    "\n",
    "rl_model = PPO(\"MultiInputPolicy\", train_env, verbose=False)"
   ]
  },
  {
   "cell_type": "code",
   "execution_count": 155,
   "metadata": {
    "ExecuteTime": {
     "end_time": "2024-03-08T11:36:06.191113Z",
     "start_time": "2024-03-08T11:31:28.684969Z"
    }
   },
   "outputs": [
    {
     "name": "stdout",
     "output_type": "stream",
     "text": [
      "Day: 2023-04-27, Cumulative Reward: -17908.09037999928, Balance: -17908.09037999928, Trade Count: 5715\n",
      "Day: 2023-05-11, Cumulative Reward: -3131.7690599999623, Balance: -3131.7690599999623, Trade Count: 403\n",
      "Day: 2023-04-04, Cumulative Reward: 124.7587799999892, Balance: 124.7587799999892, Trade Count: 43\n",
      "Day: 2023-04-13, Cumulative Reward: 461.68455999999424, Balance: 461.68455999999424, Trade Count: 7\n"
     ]
    },
    {
     "name": "stderr",
     "output_type": "stream",
     "text": [
      "C:\\Users\\Cheon\\Dev\\deepcheese\\.venv\\Lib\\site-packages\\stable_baselines3\\common\\evaluation.py:67: UserWarning: Evaluation environment is not wrapped with a ``Monitor`` wrapper. This may result in reporting modified episode lengths and rewards, if other wrappers happen to modify these. Consider wrapping environment first with ``Monitor`` wrapper.\n",
      "  warnings.warn(\n",
      "C:\\Users\\Cheon\\Dev\\deepcheese\\.venv\\Lib\\site-packages\\stable_baselines3\\common\\vec_env\\base_vec_env.py:243: UserWarning: You tried to call render() but no `render_mode` was passed to the env constructor.\n",
      "  warnings.warn(\"You tried to call render() but no `render_mode` was passed to the env constructor.\")\n"
     ]
    },
    {
     "name": "stdout",
     "output_type": "stream",
     "text": [
      "Day: 2023-06-21, Cumulative Reward: 0.0, Balance: 0.0, Trade Count: 0\n",
      "Day: 2023-06-13, Cumulative Reward: 0.0, Balance: 0.0, Trade Count: 0\n",
      "Day: 2023-06-20, Cumulative Reward: 0.0, Balance: 0.0, Trade Count: 0\n",
      "Eval num_timesteps=100000, episode_reward=0.00 +/- 0.00\n",
      "Episode length: 22304.67 +/- 138.14\n",
      "New best mean reward!\n",
      "Day: 2023-04-20, Cumulative Reward: -1470.6278100000054, Balance: -1470.6278100000054, Trade Count: 9\n",
      "Day: 2023-04-17, Cumulative Reward: 265.44754999999714, Balance: 265.44754999999714, Trade Count: 5\n",
      "Day: 2023-05-15, Cumulative Reward: 189.18097999999736, Balance: 189.18097999999736, Trade Count: 5\n",
      "Day: 2023-05-18, Cumulative Reward: -269.26898999999685, Balance: -269.26898999999685, Trade Count: 6\n",
      "Day: 2023-06-15, Cumulative Reward: 0.0, Balance: 0.0, Trade Count: 0\n",
      "Day: 2023-06-19, Cumulative Reward: 0.0, Balance: 0.0, Trade Count: 0\n",
      "Day: 2023-06-02, Cumulative Reward: 0.0, Balance: 0.0, Trade Count: 0\n",
      "Eval num_timesteps=200000, episode_reward=0.00 +/- 0.00\n",
      "Episode length: 22019.00 +/- 913.58\n",
      "Day: 2023-05-02, Cumulative Reward: 32.21571000000043, Balance: 32.21571000000043, Trade Count: 2\n",
      "Day: 2023-05-11, Cumulative Reward: 0.0, Balance: 0.0, Trade Count: 0\n",
      "Day: 2023-04-05, Cumulative Reward: 0.0, Balance: 0.0, Trade Count: 0\n",
      "Day: 2023-05-18, Cumulative Reward: 0.0, Balance: 0.0, Trade Count: 0\n",
      "Day: 2023-05-10, Cumulative Reward: 0.0, Balance: 0.0, Trade Count: 0\n",
      "Day: 2023-06-01, Cumulative Reward: 0.0, Balance: 0.0, Trade Count: 0\n",
      "Day: 2023-06-20, Cumulative Reward: 0.0, Balance: 0.0, Trade Count: 0\n",
      "Day: 2023-06-12, Cumulative Reward: 0.0, Balance: 0.0, Trade Count: 0\n",
      "Eval num_timesteps=300000, episode_reward=0.00 +/- 0.00\n",
      "Episode length: 21951.00 +/- 533.67\n",
      "Day: 2023-05-18, Cumulative Reward: 0.0, Balance: 0.0, Trade Count: 0\n"
     ]
    },
    {
     "ename": "KeyboardInterrupt",
     "evalue": "",
     "output_type": "error",
     "traceback": [
      "\u001b[1;31m---------------------------------------------------------------------------\u001b[0m",
      "\u001b[1;31mKeyboardInterrupt\u001b[0m                         Traceback (most recent call last)",
      "Cell \u001b[1;32mIn[155], line 1\u001b[0m\n\u001b[1;32m----> 1\u001b[0m \u001b[43mrl_model\u001b[49m\u001b[38;5;241;43m.\u001b[39;49m\u001b[43mlearn\u001b[49m\u001b[43m(\u001b[49m\u001b[43mtotal_timesteps\u001b[49m\u001b[38;5;241;43m=\u001b[39;49m\u001b[38;5;241;43m10000000\u001b[39;49m\u001b[43m,\u001b[49m\u001b[43m \u001b[49m\u001b[43mcallback\u001b[49m\u001b[38;5;241;43m=\u001b[39;49m\u001b[43meval_callback\u001b[49m\u001b[43m)\u001b[49m\n",
      "File \u001b[1;32m~\\Dev\\deepcheese\\.venv\\Lib\\site-packages\\stable_baselines3\\ppo\\ppo.py:315\u001b[0m, in \u001b[0;36mPPO.learn\u001b[1;34m(self, total_timesteps, callback, log_interval, tb_log_name, reset_num_timesteps, progress_bar)\u001b[0m\n\u001b[0;32m    306\u001b[0m \u001b[38;5;28;01mdef\u001b[39;00m \u001b[38;5;21mlearn\u001b[39m(\n\u001b[0;32m    307\u001b[0m     \u001b[38;5;28mself\u001b[39m: SelfPPO,\n\u001b[0;32m    308\u001b[0m     total_timesteps: \u001b[38;5;28mint\u001b[39m,\n\u001b[1;32m   (...)\u001b[0m\n\u001b[0;32m    313\u001b[0m     progress_bar: \u001b[38;5;28mbool\u001b[39m \u001b[38;5;241m=\u001b[39m \u001b[38;5;28;01mFalse\u001b[39;00m,\n\u001b[0;32m    314\u001b[0m ) \u001b[38;5;241m-\u001b[39m\u001b[38;5;241m>\u001b[39m SelfPPO:\n\u001b[1;32m--> 315\u001b[0m     \u001b[38;5;28;01mreturn\u001b[39;00m \u001b[38;5;28;43msuper\u001b[39;49m\u001b[43m(\u001b[49m\u001b[43m)\u001b[49m\u001b[38;5;241;43m.\u001b[39;49m\u001b[43mlearn\u001b[49m\u001b[43m(\u001b[49m\n\u001b[0;32m    316\u001b[0m \u001b[43m        \u001b[49m\u001b[43mtotal_timesteps\u001b[49m\u001b[38;5;241;43m=\u001b[39;49m\u001b[43mtotal_timesteps\u001b[49m\u001b[43m,\u001b[49m\n\u001b[0;32m    317\u001b[0m \u001b[43m        \u001b[49m\u001b[43mcallback\u001b[49m\u001b[38;5;241;43m=\u001b[39;49m\u001b[43mcallback\u001b[49m\u001b[43m,\u001b[49m\n\u001b[0;32m    318\u001b[0m \u001b[43m        \u001b[49m\u001b[43mlog_interval\u001b[49m\u001b[38;5;241;43m=\u001b[39;49m\u001b[43mlog_interval\u001b[49m\u001b[43m,\u001b[49m\n\u001b[0;32m    319\u001b[0m \u001b[43m        \u001b[49m\u001b[43mtb_log_name\u001b[49m\u001b[38;5;241;43m=\u001b[39;49m\u001b[43mtb_log_name\u001b[49m\u001b[43m,\u001b[49m\n\u001b[0;32m    320\u001b[0m \u001b[43m        \u001b[49m\u001b[43mreset_num_timesteps\u001b[49m\u001b[38;5;241;43m=\u001b[39;49m\u001b[43mreset_num_timesteps\u001b[49m\u001b[43m,\u001b[49m\n\u001b[0;32m    321\u001b[0m \u001b[43m        \u001b[49m\u001b[43mprogress_bar\u001b[49m\u001b[38;5;241;43m=\u001b[39;49m\u001b[43mprogress_bar\u001b[49m\u001b[43m,\u001b[49m\n\u001b[0;32m    322\u001b[0m \u001b[43m    \u001b[49m\u001b[43m)\u001b[49m\n",
      "File \u001b[1;32m~\\Dev\\deepcheese\\.venv\\Lib\\site-packages\\stable_baselines3\\common\\on_policy_algorithm.py:299\u001b[0m, in \u001b[0;36mOnPolicyAlgorithm.learn\u001b[1;34m(self, total_timesteps, callback, log_interval, tb_log_name, reset_num_timesteps, progress_bar)\u001b[0m\n\u001b[0;32m    296\u001b[0m         \u001b[38;5;28mself\u001b[39m\u001b[38;5;241m.\u001b[39mlogger\u001b[38;5;241m.\u001b[39mrecord(\u001b[38;5;124m\"\u001b[39m\u001b[38;5;124mtime/total_timesteps\u001b[39m\u001b[38;5;124m\"\u001b[39m, \u001b[38;5;28mself\u001b[39m\u001b[38;5;241m.\u001b[39mnum_timesteps, exclude\u001b[38;5;241m=\u001b[39m\u001b[38;5;124m\"\u001b[39m\u001b[38;5;124mtensorboard\u001b[39m\u001b[38;5;124m\"\u001b[39m)\n\u001b[0;32m    297\u001b[0m         \u001b[38;5;28mself\u001b[39m\u001b[38;5;241m.\u001b[39mlogger\u001b[38;5;241m.\u001b[39mdump(step\u001b[38;5;241m=\u001b[39m\u001b[38;5;28mself\u001b[39m\u001b[38;5;241m.\u001b[39mnum_timesteps)\n\u001b[1;32m--> 299\u001b[0m     \u001b[38;5;28;43mself\u001b[39;49m\u001b[38;5;241;43m.\u001b[39;49m\u001b[43mtrain\u001b[49m\u001b[43m(\u001b[49m\u001b[43m)\u001b[49m\n\u001b[0;32m    301\u001b[0m callback\u001b[38;5;241m.\u001b[39mon_training_end()\n\u001b[0;32m    303\u001b[0m \u001b[38;5;28;01mreturn\u001b[39;00m \u001b[38;5;28mself\u001b[39m\n",
      "File \u001b[1;32m~\\Dev\\deepcheese\\.venv\\Lib\\site-packages\\stable_baselines3\\ppo\\ppo.py:282\u001b[0m, in \u001b[0;36mPPO.train\u001b[1;34m(self)\u001b[0m\n\u001b[0;32m    280\u001b[0m     \u001b[38;5;66;03m# Clip grad norm\u001b[39;00m\n\u001b[0;32m    281\u001b[0m     th\u001b[38;5;241m.\u001b[39mnn\u001b[38;5;241m.\u001b[39mutils\u001b[38;5;241m.\u001b[39mclip_grad_norm_(\u001b[38;5;28mself\u001b[39m\u001b[38;5;241m.\u001b[39mpolicy\u001b[38;5;241m.\u001b[39mparameters(), \u001b[38;5;28mself\u001b[39m\u001b[38;5;241m.\u001b[39mmax_grad_norm)\n\u001b[1;32m--> 282\u001b[0m     \u001b[38;5;28;43mself\u001b[39;49m\u001b[38;5;241;43m.\u001b[39;49m\u001b[43mpolicy\u001b[49m\u001b[38;5;241;43m.\u001b[39;49m\u001b[43moptimizer\u001b[49m\u001b[38;5;241;43m.\u001b[39;49m\u001b[43mstep\u001b[49m\u001b[43m(\u001b[49m\u001b[43m)\u001b[49m\n\u001b[0;32m    284\u001b[0m \u001b[38;5;28mself\u001b[39m\u001b[38;5;241m.\u001b[39m_n_updates \u001b[38;5;241m+\u001b[39m\u001b[38;5;241m=\u001b[39m \u001b[38;5;241m1\u001b[39m\n\u001b[0;32m    285\u001b[0m \u001b[38;5;28;01mif\u001b[39;00m \u001b[38;5;129;01mnot\u001b[39;00m continue_training:\n",
      "File \u001b[1;32m~\\Dev\\deepcheese\\.venv\\Lib\\site-packages\\torch\\optim\\optimizer.py:385\u001b[0m, in \u001b[0;36mOptimizer.profile_hook_step.<locals>.wrapper\u001b[1;34m(*args, **kwargs)\u001b[0m\n\u001b[0;32m    380\u001b[0m         \u001b[38;5;28;01melse\u001b[39;00m:\n\u001b[0;32m    381\u001b[0m             \u001b[38;5;28;01mraise\u001b[39;00m \u001b[38;5;167;01mRuntimeError\u001b[39;00m(\n\u001b[0;32m    382\u001b[0m                 \u001b[38;5;124mf\u001b[39m\u001b[38;5;124m\"\u001b[39m\u001b[38;5;132;01m{\u001b[39;00mfunc\u001b[38;5;132;01m}\u001b[39;00m\u001b[38;5;124m must return None or a tuple of (new_args, new_kwargs), but got \u001b[39m\u001b[38;5;132;01m{\u001b[39;00mresult\u001b[38;5;132;01m}\u001b[39;00m\u001b[38;5;124m.\u001b[39m\u001b[38;5;124m\"\u001b[39m\n\u001b[0;32m    383\u001b[0m             )\n\u001b[1;32m--> 385\u001b[0m out \u001b[38;5;241m=\u001b[39m \u001b[43mfunc\u001b[49m\u001b[43m(\u001b[49m\u001b[38;5;241;43m*\u001b[39;49m\u001b[43margs\u001b[49m\u001b[43m,\u001b[49m\u001b[43m \u001b[49m\u001b[38;5;241;43m*\u001b[39;49m\u001b[38;5;241;43m*\u001b[39;49m\u001b[43mkwargs\u001b[49m\u001b[43m)\u001b[49m\n\u001b[0;32m    386\u001b[0m \u001b[38;5;28mself\u001b[39m\u001b[38;5;241m.\u001b[39m_optimizer_step_code()\n\u001b[0;32m    388\u001b[0m \u001b[38;5;66;03m# call optimizer step post hooks\u001b[39;00m\n",
      "File \u001b[1;32m~\\Dev\\deepcheese\\.venv\\Lib\\site-packages\\torch\\optim\\optimizer.py:76\u001b[0m, in \u001b[0;36m_use_grad_for_differentiable.<locals>._use_grad\u001b[1;34m(self, *args, **kwargs)\u001b[0m\n\u001b[0;32m     74\u001b[0m     torch\u001b[38;5;241m.\u001b[39mset_grad_enabled(\u001b[38;5;28mself\u001b[39m\u001b[38;5;241m.\u001b[39mdefaults[\u001b[38;5;124m'\u001b[39m\u001b[38;5;124mdifferentiable\u001b[39m\u001b[38;5;124m'\u001b[39m])\n\u001b[0;32m     75\u001b[0m     torch\u001b[38;5;241m.\u001b[39m_dynamo\u001b[38;5;241m.\u001b[39mgraph_break()\n\u001b[1;32m---> 76\u001b[0m     ret \u001b[38;5;241m=\u001b[39m \u001b[43mfunc\u001b[49m\u001b[43m(\u001b[49m\u001b[38;5;28;43mself\u001b[39;49m\u001b[43m,\u001b[49m\u001b[43m \u001b[49m\u001b[38;5;241;43m*\u001b[39;49m\u001b[43margs\u001b[49m\u001b[43m,\u001b[49m\u001b[43m \u001b[49m\u001b[38;5;241;43m*\u001b[39;49m\u001b[38;5;241;43m*\u001b[39;49m\u001b[43mkwargs\u001b[49m\u001b[43m)\u001b[49m\n\u001b[0;32m     77\u001b[0m \u001b[38;5;28;01mfinally\u001b[39;00m:\n\u001b[0;32m     78\u001b[0m     torch\u001b[38;5;241m.\u001b[39m_dynamo\u001b[38;5;241m.\u001b[39mgraph_break()\n",
      "File \u001b[1;32m~\\Dev\\deepcheese\\.venv\\Lib\\site-packages\\torch\\optim\\adam.py:166\u001b[0m, in \u001b[0;36mAdam.step\u001b[1;34m(self, closure)\u001b[0m\n\u001b[0;32m    155\u001b[0m     beta1, beta2 \u001b[38;5;241m=\u001b[39m group[\u001b[38;5;124m'\u001b[39m\u001b[38;5;124mbetas\u001b[39m\u001b[38;5;124m'\u001b[39m]\n\u001b[0;32m    157\u001b[0m     has_complex \u001b[38;5;241m=\u001b[39m \u001b[38;5;28mself\u001b[39m\u001b[38;5;241m.\u001b[39m_init_group(\n\u001b[0;32m    158\u001b[0m         group,\n\u001b[0;32m    159\u001b[0m         params_with_grad,\n\u001b[1;32m   (...)\u001b[0m\n\u001b[0;32m    163\u001b[0m         max_exp_avg_sqs,\n\u001b[0;32m    164\u001b[0m         state_steps)\n\u001b[1;32m--> 166\u001b[0m     \u001b[43madam\u001b[49m\u001b[43m(\u001b[49m\n\u001b[0;32m    167\u001b[0m \u001b[43m        \u001b[49m\u001b[43mparams_with_grad\u001b[49m\u001b[43m,\u001b[49m\n\u001b[0;32m    168\u001b[0m \u001b[43m        \u001b[49m\u001b[43mgrads\u001b[49m\u001b[43m,\u001b[49m\n\u001b[0;32m    169\u001b[0m \u001b[43m        \u001b[49m\u001b[43mexp_avgs\u001b[49m\u001b[43m,\u001b[49m\n\u001b[0;32m    170\u001b[0m \u001b[43m        \u001b[49m\u001b[43mexp_avg_sqs\u001b[49m\u001b[43m,\u001b[49m\n\u001b[0;32m    171\u001b[0m \u001b[43m        \u001b[49m\u001b[43mmax_exp_avg_sqs\u001b[49m\u001b[43m,\u001b[49m\n\u001b[0;32m    172\u001b[0m \u001b[43m        \u001b[49m\u001b[43mstate_steps\u001b[49m\u001b[43m,\u001b[49m\n\u001b[0;32m    173\u001b[0m \u001b[43m        \u001b[49m\u001b[43mamsgrad\u001b[49m\u001b[38;5;241;43m=\u001b[39;49m\u001b[43mgroup\u001b[49m\u001b[43m[\u001b[49m\u001b[38;5;124;43m'\u001b[39;49m\u001b[38;5;124;43mamsgrad\u001b[39;49m\u001b[38;5;124;43m'\u001b[39;49m\u001b[43m]\u001b[49m\u001b[43m,\u001b[49m\n\u001b[0;32m    174\u001b[0m \u001b[43m        \u001b[49m\u001b[43mhas_complex\u001b[49m\u001b[38;5;241;43m=\u001b[39;49m\u001b[43mhas_complex\u001b[49m\u001b[43m,\u001b[49m\n\u001b[0;32m    175\u001b[0m \u001b[43m        \u001b[49m\u001b[43mbeta1\u001b[49m\u001b[38;5;241;43m=\u001b[39;49m\u001b[43mbeta1\u001b[49m\u001b[43m,\u001b[49m\n\u001b[0;32m    176\u001b[0m \u001b[43m        \u001b[49m\u001b[43mbeta2\u001b[49m\u001b[38;5;241;43m=\u001b[39;49m\u001b[43mbeta2\u001b[49m\u001b[43m,\u001b[49m\n\u001b[0;32m    177\u001b[0m \u001b[43m        \u001b[49m\u001b[43mlr\u001b[49m\u001b[38;5;241;43m=\u001b[39;49m\u001b[43mgroup\u001b[49m\u001b[43m[\u001b[49m\u001b[38;5;124;43m'\u001b[39;49m\u001b[38;5;124;43mlr\u001b[39;49m\u001b[38;5;124;43m'\u001b[39;49m\u001b[43m]\u001b[49m\u001b[43m,\u001b[49m\n\u001b[0;32m    178\u001b[0m \u001b[43m        \u001b[49m\u001b[43mweight_decay\u001b[49m\u001b[38;5;241;43m=\u001b[39;49m\u001b[43mgroup\u001b[49m\u001b[43m[\u001b[49m\u001b[38;5;124;43m'\u001b[39;49m\u001b[38;5;124;43mweight_decay\u001b[39;49m\u001b[38;5;124;43m'\u001b[39;49m\u001b[43m]\u001b[49m\u001b[43m,\u001b[49m\n\u001b[0;32m    179\u001b[0m \u001b[43m        \u001b[49m\u001b[43meps\u001b[49m\u001b[38;5;241;43m=\u001b[39;49m\u001b[43mgroup\u001b[49m\u001b[43m[\u001b[49m\u001b[38;5;124;43m'\u001b[39;49m\u001b[38;5;124;43meps\u001b[39;49m\u001b[38;5;124;43m'\u001b[39;49m\u001b[43m]\u001b[49m\u001b[43m,\u001b[49m\n\u001b[0;32m    180\u001b[0m \u001b[43m        \u001b[49m\u001b[43mmaximize\u001b[49m\u001b[38;5;241;43m=\u001b[39;49m\u001b[43mgroup\u001b[49m\u001b[43m[\u001b[49m\u001b[38;5;124;43m'\u001b[39;49m\u001b[38;5;124;43mmaximize\u001b[39;49m\u001b[38;5;124;43m'\u001b[39;49m\u001b[43m]\u001b[49m\u001b[43m,\u001b[49m\n\u001b[0;32m    181\u001b[0m \u001b[43m        \u001b[49m\u001b[43mforeach\u001b[49m\u001b[38;5;241;43m=\u001b[39;49m\u001b[43mgroup\u001b[49m\u001b[43m[\u001b[49m\u001b[38;5;124;43m'\u001b[39;49m\u001b[38;5;124;43mforeach\u001b[39;49m\u001b[38;5;124;43m'\u001b[39;49m\u001b[43m]\u001b[49m\u001b[43m,\u001b[49m\n\u001b[0;32m    182\u001b[0m \u001b[43m        \u001b[49m\u001b[43mcapturable\u001b[49m\u001b[38;5;241;43m=\u001b[39;49m\u001b[43mgroup\u001b[49m\u001b[43m[\u001b[49m\u001b[38;5;124;43m'\u001b[39;49m\u001b[38;5;124;43mcapturable\u001b[39;49m\u001b[38;5;124;43m'\u001b[39;49m\u001b[43m]\u001b[49m\u001b[43m,\u001b[49m\n\u001b[0;32m    183\u001b[0m \u001b[43m        \u001b[49m\u001b[43mdifferentiable\u001b[49m\u001b[38;5;241;43m=\u001b[39;49m\u001b[43mgroup\u001b[49m\u001b[43m[\u001b[49m\u001b[38;5;124;43m'\u001b[39;49m\u001b[38;5;124;43mdifferentiable\u001b[39;49m\u001b[38;5;124;43m'\u001b[39;49m\u001b[43m]\u001b[49m\u001b[43m,\u001b[49m\n\u001b[0;32m    184\u001b[0m \u001b[43m        \u001b[49m\u001b[43mfused\u001b[49m\u001b[38;5;241;43m=\u001b[39;49m\u001b[43mgroup\u001b[49m\u001b[43m[\u001b[49m\u001b[38;5;124;43m'\u001b[39;49m\u001b[38;5;124;43mfused\u001b[39;49m\u001b[38;5;124;43m'\u001b[39;49m\u001b[43m]\u001b[49m\u001b[43m,\u001b[49m\n\u001b[0;32m    185\u001b[0m \u001b[43m        \u001b[49m\u001b[43mgrad_scale\u001b[49m\u001b[38;5;241;43m=\u001b[39;49m\u001b[38;5;28;43mgetattr\u001b[39;49m\u001b[43m(\u001b[49m\u001b[38;5;28;43mself\u001b[39;49m\u001b[43m,\u001b[49m\u001b[43m \u001b[49m\u001b[38;5;124;43m\"\u001b[39;49m\u001b[38;5;124;43mgrad_scale\u001b[39;49m\u001b[38;5;124;43m\"\u001b[39;49m\u001b[43m,\u001b[49m\u001b[43m \u001b[49m\u001b[38;5;28;43;01mNone\u001b[39;49;00m\u001b[43m)\u001b[49m\u001b[43m,\u001b[49m\n\u001b[0;32m    186\u001b[0m \u001b[43m        \u001b[49m\u001b[43mfound_inf\u001b[49m\u001b[38;5;241;43m=\u001b[39;49m\u001b[38;5;28;43mgetattr\u001b[39;49m\u001b[43m(\u001b[49m\u001b[38;5;28;43mself\u001b[39;49m\u001b[43m,\u001b[49m\u001b[43m \u001b[49m\u001b[38;5;124;43m\"\u001b[39;49m\u001b[38;5;124;43mfound_inf\u001b[39;49m\u001b[38;5;124;43m\"\u001b[39;49m\u001b[43m,\u001b[49m\u001b[43m \u001b[49m\u001b[38;5;28;43;01mNone\u001b[39;49;00m\u001b[43m)\u001b[49m\u001b[43m,\u001b[49m\n\u001b[0;32m    187\u001b[0m \u001b[43m    \u001b[49m\u001b[43m)\u001b[49m\n\u001b[0;32m    189\u001b[0m \u001b[38;5;28;01mreturn\u001b[39;00m loss\n",
      "File \u001b[1;32m~\\Dev\\deepcheese\\.venv\\Lib\\site-packages\\torch\\optim\\adam.py:316\u001b[0m, in \u001b[0;36madam\u001b[1;34m(params, grads, exp_avgs, exp_avg_sqs, max_exp_avg_sqs, state_steps, foreach, capturable, differentiable, fused, grad_scale, found_inf, has_complex, amsgrad, beta1, beta2, lr, weight_decay, eps, maximize)\u001b[0m\n\u001b[0;32m    313\u001b[0m \u001b[38;5;28;01melse\u001b[39;00m:\n\u001b[0;32m    314\u001b[0m     func \u001b[38;5;241m=\u001b[39m _single_tensor_adam\n\u001b[1;32m--> 316\u001b[0m \u001b[43mfunc\u001b[49m\u001b[43m(\u001b[49m\u001b[43mparams\u001b[49m\u001b[43m,\u001b[49m\n\u001b[0;32m    317\u001b[0m \u001b[43m     \u001b[49m\u001b[43mgrads\u001b[49m\u001b[43m,\u001b[49m\n\u001b[0;32m    318\u001b[0m \u001b[43m     \u001b[49m\u001b[43mexp_avgs\u001b[49m\u001b[43m,\u001b[49m\n\u001b[0;32m    319\u001b[0m \u001b[43m     \u001b[49m\u001b[43mexp_avg_sqs\u001b[49m\u001b[43m,\u001b[49m\n\u001b[0;32m    320\u001b[0m \u001b[43m     \u001b[49m\u001b[43mmax_exp_avg_sqs\u001b[49m\u001b[43m,\u001b[49m\n\u001b[0;32m    321\u001b[0m \u001b[43m     \u001b[49m\u001b[43mstate_steps\u001b[49m\u001b[43m,\u001b[49m\n\u001b[0;32m    322\u001b[0m \u001b[43m     \u001b[49m\u001b[43mamsgrad\u001b[49m\u001b[38;5;241;43m=\u001b[39;49m\u001b[43mamsgrad\u001b[49m\u001b[43m,\u001b[49m\n\u001b[0;32m    323\u001b[0m \u001b[43m     \u001b[49m\u001b[43mhas_complex\u001b[49m\u001b[38;5;241;43m=\u001b[39;49m\u001b[43mhas_complex\u001b[49m\u001b[43m,\u001b[49m\n\u001b[0;32m    324\u001b[0m \u001b[43m     \u001b[49m\u001b[43mbeta1\u001b[49m\u001b[38;5;241;43m=\u001b[39;49m\u001b[43mbeta1\u001b[49m\u001b[43m,\u001b[49m\n\u001b[0;32m    325\u001b[0m \u001b[43m     \u001b[49m\u001b[43mbeta2\u001b[49m\u001b[38;5;241;43m=\u001b[39;49m\u001b[43mbeta2\u001b[49m\u001b[43m,\u001b[49m\n\u001b[0;32m    326\u001b[0m \u001b[43m     \u001b[49m\u001b[43mlr\u001b[49m\u001b[38;5;241;43m=\u001b[39;49m\u001b[43mlr\u001b[49m\u001b[43m,\u001b[49m\n\u001b[0;32m    327\u001b[0m \u001b[43m     \u001b[49m\u001b[43mweight_decay\u001b[49m\u001b[38;5;241;43m=\u001b[39;49m\u001b[43mweight_decay\u001b[49m\u001b[43m,\u001b[49m\n\u001b[0;32m    328\u001b[0m \u001b[43m     \u001b[49m\u001b[43meps\u001b[49m\u001b[38;5;241;43m=\u001b[39;49m\u001b[43meps\u001b[49m\u001b[43m,\u001b[49m\n\u001b[0;32m    329\u001b[0m \u001b[43m     \u001b[49m\u001b[43mmaximize\u001b[49m\u001b[38;5;241;43m=\u001b[39;49m\u001b[43mmaximize\u001b[49m\u001b[43m,\u001b[49m\n\u001b[0;32m    330\u001b[0m \u001b[43m     \u001b[49m\u001b[43mcapturable\u001b[49m\u001b[38;5;241;43m=\u001b[39;49m\u001b[43mcapturable\u001b[49m\u001b[43m,\u001b[49m\n\u001b[0;32m    331\u001b[0m \u001b[43m     \u001b[49m\u001b[43mdifferentiable\u001b[49m\u001b[38;5;241;43m=\u001b[39;49m\u001b[43mdifferentiable\u001b[49m\u001b[43m,\u001b[49m\n\u001b[0;32m    332\u001b[0m \u001b[43m     \u001b[49m\u001b[43mgrad_scale\u001b[49m\u001b[38;5;241;43m=\u001b[39;49m\u001b[43mgrad_scale\u001b[49m\u001b[43m,\u001b[49m\n\u001b[0;32m    333\u001b[0m \u001b[43m     \u001b[49m\u001b[43mfound_inf\u001b[49m\u001b[38;5;241;43m=\u001b[39;49m\u001b[43mfound_inf\u001b[49m\u001b[43m)\u001b[49m\n",
      "File \u001b[1;32m~\\Dev\\deepcheese\\.venv\\Lib\\site-packages\\torch\\optim\\adam.py:391\u001b[0m, in \u001b[0;36m_single_tensor_adam\u001b[1;34m(params, grads, exp_avgs, exp_avg_sqs, max_exp_avg_sqs, state_steps, grad_scale, found_inf, amsgrad, has_complex, beta1, beta2, lr, weight_decay, eps, maximize, capturable, differentiable)\u001b[0m\n\u001b[0;32m    388\u001b[0m     param \u001b[38;5;241m=\u001b[39m torch\u001b[38;5;241m.\u001b[39mview_as_real(param)\n\u001b[0;32m    390\u001b[0m \u001b[38;5;66;03m# Decay the first and second moment running average coefficient\u001b[39;00m\n\u001b[1;32m--> 391\u001b[0m \u001b[43mexp_avg\u001b[49m\u001b[38;5;241;43m.\u001b[39;49m\u001b[43mlerp_\u001b[49m\u001b[43m(\u001b[49m\u001b[43mgrad\u001b[49m\u001b[43m,\u001b[49m\u001b[43m \u001b[49m\u001b[38;5;241;43m1\u001b[39;49m\u001b[43m \u001b[49m\u001b[38;5;241;43m-\u001b[39;49m\u001b[43m \u001b[49m\u001b[43mbeta1\u001b[49m\u001b[43m)\u001b[49m\n\u001b[0;32m    392\u001b[0m exp_avg_sq\u001b[38;5;241m.\u001b[39mmul_(beta2)\u001b[38;5;241m.\u001b[39maddcmul_(grad, grad\u001b[38;5;241m.\u001b[39mconj(), value\u001b[38;5;241m=\u001b[39m\u001b[38;5;241m1\u001b[39m \u001b[38;5;241m-\u001b[39m beta2)\n\u001b[0;32m    394\u001b[0m \u001b[38;5;28;01mif\u001b[39;00m capturable \u001b[38;5;129;01mor\u001b[39;00m differentiable:\n",
      "\u001b[1;31mKeyboardInterrupt\u001b[0m: "
     ]
    }
   ],
   "source": [
    "rl_model.learn(total_timesteps=10000000, callback=eval_callback)"
   ]
  },
  {
   "cell_type": "code",
   "execution_count": null,
   "metadata": {
    "ExecuteTime": {
     "start_time": "2024-03-08T07:15:53.903200Z"
    }
   },
   "outputs": [],
   "source": [
    "# test episode\n",
    "obs, info = test_env.reset()\n",
    "balance_hist = []\n",
    "bench_hist = []\n",
    "position_hist = []\n",
    "\n",
    "done = False\n",
    "while not done:\n",
    "    #test_env.render()\n",
    "\n",
    "    action, _ = rl_model.predict(obs)\n",
    "    obs, reward, done, trunc, info = test_env.step(action)\n",
    "\n",
    "    balance_hist.append(info['balance'])\n",
    "    bench_hist.append(info['midprice'])\n",
    "    position_hist.append(info['position'])\n",
    "\n",
    "test_env.close()"
   ]
  },
  {
   "cell_type": "code",
   "execution_count": null,
   "metadata": {},
   "outputs": [],
   "source": []
  }
 ],
 "metadata": {
  "kernelspec": {
   "display_name": ".venv",
   "language": "python",
   "name": "python3"
  },
  "language_info": {
   "codemirror_mode": {
    "name": "ipython",
    "version": 3
   },
   "file_extension": ".py",
   "mimetype": "text/x-python",
   "name": "python",
   "nbconvert_exporter": "python",
   "pygments_lexer": "ipython3",
   "version": "3.11.5"
  }
 },
 "nbformat": 4,
 "nbformat_minor": 2
}
